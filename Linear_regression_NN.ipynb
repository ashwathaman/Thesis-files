{
  "nbformat": 4,
  "nbformat_minor": 0,
  "metadata": {
    "colab": {
      "name": "Linear regression NN.ipynb",
      "provenance": [],
      "collapsed_sections": [],
      "authorship_tag": "ABX9TyMnd62ia8Tmkp/98ShLpcNj",
      "include_colab_link": true
    },
    "kernelspec": {
      "name": "python3",
      "display_name": "Python 3"
    }
  },
  "cells": [
    {
      "cell_type": "markdown",
      "metadata": {
        "id": "view-in-github",
        "colab_type": "text"
      },
      "source": [
        "<a href=\"https://colab.research.google.com/github/ashwathaman/Thesis-files/blob/master/Linear_regression_NN.ipynb\" target=\"_parent\"><img src=\"https://colab.research.google.com/assets/colab-badge.svg\" alt=\"Open In Colab\"/></a>"
      ]
    },
    {
      "cell_type": "code",
      "metadata": {
        "id": "NtOBEjCVSd8B",
        "colab_type": "code",
        "colab": {}
      },
      "source": [
        "import matplotlib.pyplot as plt\n",
        "import numpy as np\n",
        "\n"
      ],
      "execution_count": 0,
      "outputs": []
    },
    {
      "cell_type": "code",
      "metadata": {
        "id": "1tgQLqlwSrmG",
        "colab_type": "code",
        "outputId": "42c4e4f1-49d1-424a-f418-e0007826ad7d",
        "colab": {
          "base_uri": "https://localhost:8080/",
          "height": 36
        }
      },
      "source": [
        "from google.colab import drive\n",
        "drive.mount('/content/drive')"
      ],
      "execution_count": 73,
      "outputs": [
        {
          "output_type": "stream",
          "text": [
            "Drive already mounted at /content/drive; to attempt to forcibly remount, call drive.mount(\"/content/drive\", force_remount=True).\n"
          ],
          "name": "stdout"
        }
      ]
    },
    {
      "cell_type": "code",
      "metadata": {
        "id": "ThHGIQb0StEG",
        "colab_type": "code",
        "colab": {}
      },
      "source": [
        "# Load the data and create the data matrices X and Y\n",
        "# This creates a feature vector X with a column of ones (bias)\n",
        "# and a column of car weights.\n",
        "# The target vector Y is a column of MPG values for each car.\n",
        "X_file = np.genfromtxt(r\"/content/drive/My Drive/thesis/mpg.csv\", delimiter=',', skip_header=1)\n",
        "N = np.shape(X_file)[0]\n",
        "X = np.hstack((np.ones(N).reshape(N, 1), X_file[:, 4].reshape(N, 1)))\n",
        "Y = X_file[:, 0]"
      ],
      "execution_count": 0,
      "outputs": []
    },
    {
      "cell_type": "code",
      "metadata": {
        "id": "WsrUGGX4qaP0",
        "colab_type": "code",
        "colab": {}
      },
      "source": [
        "weight = X_file[:, 4]"
      ],
      "execution_count": 0,
      "outputs": []
    },
    {
      "cell_type": "code",
      "metadata": {
        "id": "0vVMvxg-S-Zi",
        "colab_type": "code",
        "colab": {}
      },
      "source": [
        "# Standardize the input\n",
        "X[:, 1] = (X[:, 1]-np.mean(X[:, 1]))/np.std(X[:, 1])\n",
        "\n",
        "# There are two weights, the bias weight and the feature weight\n",
        "w = np.array([0, 0])"
      ],
      "execution_count": 0,
      "outputs": []
    },
    {
      "cell_type": "code",
      "metadata": {
        "id": "9s_rVAf6TF2f",
        "colab_type": "code",
        "outputId": "c4fa50dc-a4e4-4f2b-b135-e8423aa30e1d",
        "colab": {
          "base_uri": "https://localhost:8080/",
          "height": 36
        }
      },
      "source": [
        "# Start batch gradient descent, it will run for max_iter epochs and have a step\n",
        "# size eta\n",
        "max_iter = 100\n",
        "eta = 1E-3\n",
        "for t in range(0, max_iter):\n",
        "    # We need to iterate over each data point for one epoch\n",
        "    grad_t = np.array([0., 0.])\n",
        "    for i in range(0, N):\n",
        "        x_i = X[i, :]\n",
        "        y_i = Y[i]\n",
        "        # Dot product, computes h(x_i, w)\n",
        "        h = np.dot(w, x_i)-y_i\n",
        "        grad_t += 2*x_i*h\n",
        "\n",
        "    # Update the weights\n",
        "    w = w - eta*grad_t\n",
        "print (\"Weights found:\",w)"
      ],
      "execution_count": 77,
      "outputs": [
        {
          "output_type": "stream",
          "text": [
            "Weights found: [23.44591837 -6.48738174]\n"
          ],
          "name": "stdout"
        }
      ]
    },
    {
      "cell_type": "code",
      "metadata": {
        "id": "y8jRthwiTI51",
        "colab_type": "code",
        "outputId": "fe90ecd8-9225-402e-bdde-c2a44a2ad790",
        "colab": {
          "base_uri": "https://localhost:8080/",
          "height": 295
        }
      },
      "source": [
        "    n = len(X)\n",
        "    #Plot the data and best fit line\n",
        "    tt = np.linspace(np.min(X[:, 1]), np.max(X[:, 1]), n)  #The x coordinate of the line\n",
        "    bf_line = w[0]+w[1]*tt  # y coordinate of the line\n",
        "\n",
        "    plt.plot(X[:, 1], Y, 'kx', tt, bf_line, 'r-')\n",
        "    plt.xlabel('Weight (Normalized)')\n",
        "    plt.ylabel('mpg')\n",
        "    plt.title('ANN Regression on 1D mpg Data')\n",
        "\n",
        "    plt.savefig('mpg.png')\n",
        "\n",
        "    plt.show()"
      ],
      "execution_count": 80,
      "outputs": [
        {
          "output_type": "display_data",
          "data": {
            "image/png": "[encoded data removed]",
            "text/plain": [
              "<Figure size 432x288 with 1 Axes>"
            ]
          },
          "metadata": {
            "tags": [],
            "needs_background": "light"
          }
        }
      ]
    },
    {
      "cell_type": "code",
      "metadata": {
        "id": "6P5GcRjXTL5m",
        "colab_type": "code",
        "colab": {}
      },
      "source": [
        "#NOTE THAT W[0] IS THE INTERCEPT AND W[!] IS THE SLOPE\n",
        "#IT IS SIMILAR TO THE LINEAR REGRESSION OUTPUT USING SCIKIT LEARN SHOWN BELOW\n"
      ],
      "execution_count": 0,
      "outputs": []
    },
    {
      "cell_type": "code",
      "metadata": {
        "id": "C2g4JkGVTPKz",
        "colab_type": "code",
        "outputId": "0c4c0442-746f-4b90-a98f-c85e2106043d",
        "colab": {
          "base_uri": "https://localhost:8080/",
          "height": 36
        }
      },
      "source": [
        "rmse = 0\n",
        "\n",
        "for i in range(n):\n",
        "    y_pred = w[0]+w[1]*tt[i]\n",
        "    rmse += (Y[i] - y_pred) ** 2\n",
        "\n",
        "rmse = np.sqrt(rmse / n)\n",
        "print(rmse)"
      ],
      "execution_count": 21,
      "outputs": [
        {
          "output_type": "stream",
          "text": [
            "14.225336010021339\n"
          ],
          "name": "stdout"
        }
      ]
    },
    {
      "cell_type": "code",
      "metadata": {
        "id": "B2jG-Ev3TRP2",
        "colab_type": "code",
        "outputId": "6839a5b5-f74a-4a1d-a0d1-9fec2ebbb16e",
        "colab": {
          "base_uri": "https://localhost:8080/",
          "height": 36
        }
      },
      "source": [
        "y_mean = np.mean(Y)\n",
        "sumofsquares = 0\n",
        "sumofresiduals = 0\n",
        "for i in range(n):\n",
        "    y_pred = w[0]+w[1]*tt[i]\n",
        "    sumofsquares += (Y[i] - y_mean) ** 2\n",
        "    sumofresiduals += (Y[i] - y_pred) ** 2\n",
        "\n",
        "score = 1 - (sumofresiduals / sumofsquares)\n",
        "print(score)\n"
      ],
      "execution_count": 22,
      "outputs": [
        {
          "output_type": "stream",
          "text": [
            "-2.3303335199436064\n"
          ],
          "name": "stdout"
        }
      ]
    },
    {
      "cell_type": "code",
      "metadata": {
        "id": "WA35Uek1TTPS",
        "colab_type": "code",
        "outputId": "38407319-4df6-4985-b471-71eef3ef6eeb",
        "colab": {
          "base_uri": "https://localhost:8080/",
          "height": 73
        }
      },
      "source": [
        "#LINEAR REGRESSION USING SKLEARN\n",
        "\n",
        "from sklearn import linear_model\n",
        "from sklearn.linear_model import LinearRegression\n",
        "model = LinearRegression().fit(X, Y)\n",
        "r_sq = model.score(X, Y)\n",
        "print('coefficient of determination:', r_sq)\n",
        "print('intercept:', model.intercept_)\n",
        "print('slope:', model.coef_)\n"
      ],
      "execution_count": 23,
      "outputs": [
        {
          "output_type": "stream",
          "text": [
            "coefficient of determination: 0.6926304331206254\n",
            "intercept: 23.445918367346938\n",
            "slope: [ 0.         -6.48738174]\n"
          ],
          "name": "stdout"
        }
      ]
    },
    {
      "cell_type": "code",
      "metadata": {
        "id": "tEj9XyTlTWnG",
        "colab_type": "code",
        "colab": {}
      },
      "source": [
        "from sklearn.metrics import mean_squared_error\n",
        "\n",
        "y_pred = model.predict(X)\n"
      ],
      "execution_count": 0,
      "outputs": []
    },
    {
      "cell_type": "code",
      "metadata": {
        "id": "6XdJNPhsTYQd",
        "colab_type": "code",
        "outputId": "08fa52ae-2329-4c6b-d98a-46dfe75a5f88",
        "colab": {
          "base_uri": "https://localhost:8080/",
          "height": 54
        }
      },
      "source": [
        "# Calculating RMSE and R2 Score\n",
        "mse = mean_squared_error(Y, y_pred)\n",
        "rmse = np.sqrt(mse)\n",
        "r2_score = model.score(X,Y)\n",
        "\n",
        "print(np.sqrt(mse))\n",
        "print(r2_score)"
      ],
      "execution_count": 25,
      "outputs": [
        {
          "output_type": "stream",
          "text": [
            "4.321645126270701\n",
            "0.6926304331206254\n"
          ],
          "name": "stdout"
        }
      ]
    },
    {
      "cell_type": "code",
      "metadata": {
        "id": "-UOKeV3GTZl6",
        "colab_type": "code",
        "outputId": "b60e005d-493e-4de9-a73e-d8c980b0487e",
        "colab": {
          "base_uri": "https://localhost:8080/",
          "height": 265
        }
      },
      "source": [
        "%matplotlib inline\n",
        "import numpy as np\n",
        "from sklearn.metrics import r2_score\n",
        "import matplotlib.pyplot as plt\n",
        "from scipy import stats\n",
        "#creating OLS regression\n",
        "slope, intercept, r_value, p_value, std_err = stats.linregress(weight,Y)\n",
        "def linefitline(b):\n",
        "    return intercept + slope * b\n",
        "line1 = linefitline(weight)\n",
        "\n",
        "#plot line\n",
        "plt.plot(weight,Y, 'kx')\n",
        "plt.plot(weight,line1, c = 'g')\n",
        "plt.show()"
      ],
      "execution_count": 81,
      "outputs": [
        {
          "output_type": "display_data",
          "data": {
            "image/png": "[encoded data removed]",
            "text/plain": [
              "<Figure size 432x288 with 1 Axes>"
            ]
          },
          "metadata": {
            "tags": [],
            "needs_background": "light"
          }
        }
      ]
    },
    {
      "cell_type": "code",
      "metadata": {
        "id": "P8gmaF0ETbDX",
        "colab_type": "code",
        "colab": {}
      },
      "source": [
        "line2 = np.full(392,[Y.mean()])\n"
      ],
      "execution_count": 0,
      "outputs": []
    },
    {
      "cell_type": "code",
      "metadata": {
        "id": "3a1a4zMfpd6b",
        "colab_type": "code",
        "colab": {
          "base_uri": "https://localhost:8080/",
          "height": 265
        },
        "outputId": "357f53e3-bbc3-42cf-a849-18ebb542b8da"
      },
      "source": [
        "plt.plot(weight,Y, 'kx')\n",
        "plt.plot(weight,line2, c = 'r')\n",
        "plt.show()"
      ],
      "execution_count": 82,
      "outputs": [
        {
          "output_type": "display_data",
          "data": {
            "image/png": "[encoded data removed]",
            "text/plain": [
              "<Figure size 432x288 with 1 Axes>"
            ]
          },
          "metadata": {
            "tags": [],
            "needs_background": "light"
          }
        }
      ]
    },
    {
      "cell_type": "code",
      "metadata": {
        "id": "or-NgoqYoZJ0",
        "colab_type": "code",
        "colab": {
          "base_uri": "https://localhost:8080/",
          "height": 36
        },
        "outputId": "187cf2ee-8e1e-4ea1-e4c8-c63fc3df29c9"
      },
      "source": [
        "differences_line1 = linefitline(weight)-Y\n",
        "line1sum = 0\n",
        "for i in differences_line1:\n",
        "    line1sum = line1sum + (i*i)\n",
        "line2sum"
      ],
      "execution_count": 53,
      "outputs": [
        {
          "output_type": "execute_result",
          "data": {
            "text/plain": [
              "7321.2337061883645"
            ]
          },
          "metadata": {
            "tags": []
          },
          "execution_count": 53
        }
      ]
    },
    {
      "cell_type": "code",
      "metadata": {
        "id": "o3XpAtT1ofNs",
        "colab_type": "code",
        "colab": {
          "base_uri": "https://localhost:8080/",
          "height": 36
        },
        "outputId": "483d7060-eeb0-42d0-981b-bdbb374c3584"
      },
      "source": [
        "differences_line2 = line2 - Y\n",
        "line2sum = 0\n",
        "for i in differences_line2:\n",
        "    line2sum = line2sum + (i*i)\n",
        "line2sum"
      ],
      "execution_count": 60,
      "outputs": [
        {
          "output_type": "execute_result",
          "data": {
            "text/plain": [
              "23818.993469387744"
            ]
          },
          "metadata": {
            "tags": []
          },
          "execution_count": 60
        }
      ]
    },
    {
      "cell_type": "code",
      "metadata": {
        "id": "bMGt2Dg7p1cz",
        "colab_type": "code",
        "colab": {}
      },
      "source": [
        "difference = line2sum - line1sum"
      ],
      "execution_count": 0,
      "outputs": []
    },
    {
      "cell_type": "code",
      "metadata": {
        "id": "H32cYHKxqL4T",
        "colab_type": "code",
        "colab": {
          "base_uri": "https://localhost:8080/",
          "height": 36
        },
        "outputId": "117bcb1f-18e0-4e6e-dd15-108a72485f2a"
      },
      "source": [
        "r2val = difference/line2sum\n",
        "r2val"
      ],
      "execution_count": 65,
      "outputs": [
        {
          "output_type": "execute_result",
          "data": {
            "text/plain": [
              "0.6926304331206252"
            ]
          },
          "metadata": {
            "tags": []
          },
          "execution_count": 65
        }
      ]
    },
    {
      "cell_type": "code",
      "metadata": {
        "id": "WcMRANWPTcKM",
        "colab_type": "code",
        "colab": {
          "base_uri": "https://localhost:8080/",
          "height": 295
        },
        "outputId": "5b3ff050-f295-4f7d-f919-47170c9681b3"
      },
      "source": [
        "    plt.plot(weight, Y,'kx' )\n",
        "    plt.xlabel('Weight')\n",
        "    plt.ylabel('mpg')\n",
        "    plt.title('Weight vs mpg ')\n",
        "\n",
        "    plt.savefig('mpg.png')\n",
        "\n",
        "    plt.show()"
      ],
      "execution_count": 84,
      "outputs": [
        {
          "output_type": "display_data",
          "data": {
            "image/png": "[encoded data removed]",
            "text/plain": [
              "<Figure size 432x288 with 1 Axes>"
            ]
          },
          "metadata": {
            "tags": [],
            "needs_background": "light"
          }
        }
      ]
    },
    {
      "cell_type": "code",
      "metadata": {
        "id": "gbRGXn9in0yM",
        "colab_type": "code",
        "colab": {}
      },
      "source": [
        ""
      ],
      "execution_count": 0,
      "outputs": []
    }
  ]
}